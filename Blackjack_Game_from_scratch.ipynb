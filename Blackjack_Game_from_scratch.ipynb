{
 "cells": [
  {
   "cell_type": "code",
   "execution_count": null,
   "metadata": {
    "colab": {
     "base_uri": "https://localhost:8080/"
    },
    "id": "HdQBVCpTkqss",
    "outputId": "16876b75-880e-46ff-9d41-8af7cdaf4fde"
   },
   "outputs": [],
   "source": []
  },
  {
   "cell_type": "code",
   "execution_count": 26,
   "metadata": {
    "id": "CGZnyOWCMRMr"
   },
   "outputs": [],
   "source": [
    "import random"
   ]
  },
  {
   "cell_type": "code",
   "execution_count": 27,
   "metadata": {
    "id": "QhhS_YkCkrga"
   },
   "outputs": [],
   "source": [
    "#blackjack game\n",
    "total_money = 50\n",
    "maxx = 21\n",
    "king =10\n",
    "jack = 10\n",
    "queen =10\n",
    "ACE = \"ACE\""
   ]
  },
  {
   "cell_type": "code",
   "execution_count": 45,
   "metadata": {
    "id": "d6o55hMYlGL9"
   },
   "outputs": [],
   "source": [
    "class blackjack:\n",
    "  def __init__(self, player):#----------initializing variables\n",
    "    self.input = input\n",
    "    self.player = player\n",
    "    self.players_input = 0\n",
    "    self.current_player_card = []\n",
    "    self.total_player_list = []\n",
    "    self.updated_each_player_list = []\n",
    "    self.diamond = [king, jack , queen,ACE]\n",
    "    self.total_money = 50\n",
    "    self.heart = [king, jack , queen,ACE]\n",
    "    self.club = [king, jack, queen,ACE]\n",
    "    self.spade = [king, jack, queen,ACE]\n",
    "    self.total_cards = []\n",
    "  def cards(self):#------------------making deck of cards\n",
    "    for i in range(1,11):\n",
    "      self.diamond.append(i)\n",
    "      self.heart.append(i)\n",
    "      self.club.append(i)\n",
    "      self.spade.append(i)\n",
    "    #print(self.diamond)\n",
    "\n",
    "    self.total_cards = self.diamond + self.heart + self.club + self.spade\n",
    "    random.shuffle(self.total_cards)\n",
    "    #print(self.total_cards)\n",
    "    return(self.total_cards)\n",
    "\n",
    "\n",
    "\n",
    "  def player_money(self):#-----------distribute money to each player\n",
    "    for i in range(self.player):\n",
    "      self.total_player_list.append(i)\n",
    "      self.total_player_list[i]=self.total_money\n",
    "\n",
    "\n",
    "  def each_player_deck(self):\n",
    "    \n",
    "    for i in range(self.player):\n",
    "      self.current_player_card.append(i)\n",
    "      self.current_player_card[i] = 0\n",
    "\n",
    "  def handle_ACE(self, ACE):\n",
    "    for i in range(self.player):\n",
    "      if each_player_deck[i] + 11 <= 21:\n",
    "        ACE = 11\n",
    "      if each_player_deck[i] + 1 <= 21:\n",
    "        ACE = 1\n",
    "    return ACE\n",
    "\n",
    "\n",
    "\n",
    "  def hit_or_pass(self,players_input):\n",
    "    if players_input == \"hit\":\n",
    "      \n",
    "      self.total_player_list[0] -= 1\n",
    "      \n",
    "    \n",
    "    elif players_input == \"pass\":\n",
    "      self.total_player_list[0] = self.total_player_list[0]\n",
    "\n",
    "    else:\n",
    "      print(\"Wrong input\")\n",
    "\n",
    "  def opponet_money_deduct(self,opponet):\n",
    "    self.total_player_list[opponet] -= 1\n",
    "\n",
    "\n",
    "\n",
    "  def Start_game(self):\n",
    "    self.total_player_list.clear()\n",
    "    self.cards()#---------------initialize cards\n",
    "    self.player_money()#------------initizalize money\n",
    "    self.each_player_deck()#--------initializing each player deck, initially to be zero\n",
    "    self.temp = 0\n",
    "    #self.updated_each_player_list = [0,0,0,0]\n",
    "    \n",
    "    self.updated_each_player_list_Copy = [0,0,0,0]\n",
    "\n",
    "\n",
    "    # print(\"before popping\")\n",
    "    # print(self.total_cards)\n",
    "\n",
    "\n",
    "    for l in range(4):#-------------------------number of total rounds\n",
    "      self.updated_each_player_list.clear()\n",
    "    \n",
    "\n",
    "\n",
    "      for i in range(self.player):#----------------for loop for asigiming cards to player\n",
    "        if i!=0:\n",
    "          self.opponet_money_deduct(i)\n",
    "        \n",
    "        \n",
    "        if i == 0:\n",
    "          k = input(\"would you like to hit or pass?\")\n",
    "          self.hit_or_pass(k)\n",
    "          if(k == \"pass\"):\n",
    "            self.updated_each_player_list.append(0)\n",
    "            continue\n",
    "\n",
    "        self.temp = self.total_cards[0] \n",
    "        self.updated_each_player_list.append(self.temp)\n",
    "        self.total_cards.pop(0)\n",
    "\n",
    "\n",
    "\n",
    "      for h in range (self.player):\n",
    "        if self.updated_each_player_list[h] == \"ACE\":\n",
    "          if self.updated_each_player_list_Copy[h] + 11 <= 21:\n",
    "            self.updated_each_player_list[h] = int(11)\n",
    "\n",
    "          elif self.updated_each_player_list_Copy[h] + 1 <= 21:\n",
    "            self.updated_each_player_list[h] = int(11)\n",
    "\n",
    "\n",
    "\n",
    "\n",
    "\n",
    "      self.updated_each_player_list_Copy = [x+y for x,y in zip(self.updated_each_player_list_Copy, self.updated_each_player_list)]#-------this list is sum of total cards each player have\n",
    "      #self.updated_each_player_list_Copy += self.updated_each_player_list\n",
    "\n",
    "\n",
    "\n",
    "\n",
    "      # print(\"After popping\")\n",
    "      # print(self.total_cards)\n",
    "      print(self.updated_each_player_list_Copy)\n",
    "      for k in range(self.player):\n",
    "        if self.updated_each_player_list_Copy[k] > 21:\n",
    "          self.updated_each_player_list_Copy[k] = -100\n",
    "          print(\"player\", k+1, \"lost\")\n",
    "\n",
    "\n",
    "        if self.updated_each_player_list_Copy[k] == 21:\n",
    "          print(\"player\", k+1, \"WON\")\n",
    "      \n",
    "\n",
    "\n",
    "    print(\"SEE BELOW TO CHECK YOUR BALANNCE (OUT OF 50)\")\n",
    "    print(self.total_player_list)\n",
    "\n"
   ]
  },
  {
   "cell_type": "code",
   "execution_count": 46,
   "metadata": {
    "colab": {
     "base_uri": "https://localhost:8080/"
    },
    "id": "SlXjer9_HFat",
    "outputId": "0605d16e-eedd-40dd-8ae9-69f699b7e39d"
   },
   "outputs": [
    {
     "name": "stdout",
     "output_type": "stream",
     "text": [
      "Enter number of player4\n",
      "PLAYER1| PLAYER2 | PLAYER3 | PLAYER4\n",
      "YOure player 1\n"
     ]
    }
   ],
   "source": [
    "p = int(input(\"Enter number of player\",))#################--------------------tested with 4\n",
    "a = blackjack(p)\n",
    "print(\"PLAYER1| PLAYER2 | PLAYER3 | PLAYER4\")\n",
    "print(\"YOure player 1\")\n",
    "\n",
    "\n"
   ]
  },
  {
   "cell_type": "code",
   "execution_count": 47,
   "metadata": {
    "colab": {
     "base_uri": "https://localhost:8080/"
    },
    "id": "_xQHTcD3HyXC",
    "outputId": "d1e57755-eb71-4335-c0ab-4cf3c51680de"
   },
   "outputs": [
    {
     "name": "stdout",
     "output_type": "stream",
     "text": [
      "would you like to hit or pass?hit\n",
      "[5, 2, 6, 11]\n",
      "would you like to hit or pass?hit\n",
      "[15, 12, 11, 22]\n",
      "player 4 lost\n",
      "would you like to hit or pass?hit\n",
      "[23, 18, 21, -99]\n",
      "player 1 lost\n",
      "player 3 WON\n",
      "would you like to hit or pass?hit\n",
      "[-90, 28, 26, -89]\n",
      "player 2 lost\n",
      "player 3 lost\n",
      "SEE BELOW TO CHECK YOUR BALANNCE (OUT OF 50)\n",
      "[46, 46, 46, 46]\n"
     ]
    }
   ],
   "source": [
    "a.Start_game()"
   ]
  },
  {
   "cell_type": "code",
   "execution_count": 44,
   "metadata": {
    "id": "uD_GIoq7R2ge"
   },
   "outputs": [],
   "source": []
  },
  {
   "cell_type": "code",
   "execution_count": 351,
   "metadata": {
    "id": "lq6mW_fgdj3S"
   },
   "outputs": [],
   "source": []
  },
  {
   "cell_type": "code",
   "execution_count": 449,
   "metadata": {
    "id": "ozpsFQNsjC27"
   },
   "outputs": [],
   "source": []
  },
  {
   "cell_type": "code",
   "execution_count": null,
   "metadata": {
    "id": "ZQ2qHj34jaNN"
   },
   "outputs": [],
   "source": []
  }
 ],
 "metadata": {
  "colab": {
   "name": "Blackjack Game from scratch.ipynb",
   "provenance": []
  },
  "kernelspec": {
   "display_name": "Python 3",
   "language": "python",
   "name": "python3"
  },
  "language_info": {
   "codemirror_mode": {
    "name": "ipython",
    "version": 3
   },
   "file_extension": ".py",
   "mimetype": "text/x-python",
   "name": "python",
   "nbconvert_exporter": "python",
   "pygments_lexer": "ipython3",
   "version": "3.7.0"
  }
 },
 "nbformat": 4,
 "nbformat_minor": 1
}
