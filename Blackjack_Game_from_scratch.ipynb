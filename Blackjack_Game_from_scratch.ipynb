{
  "nbformat": 4,
  "nbformat_minor": 0,
  "metadata": {
    "colab": {
      "name": "Blackjack Game from scratch.ipynb",
      "provenance": []
    },
    "kernelspec": {
      "name": "python3",
      "display_name": "Python 3"
    }
  },
  "cells": [
    {
      "cell_type": "code",
      "metadata": {
        "colab": {
          "base_uri": "https://localhost:8080/"
        },
        "id": "HdQBVCpTkqss",
        "outputId": "16876b75-880e-46ff-9d41-8af7cdaf4fde"
      },
      "source": [
        "##--------fiizzzbizzz\r\n",
        "for i in range (1,100):\r\n",
        " \r\n",
        "  if i%3 == 0:\r\n",
        "    print(\"fizz\",+i)\r\n",
        "  if i%5 == 0:\r\n",
        "     print(\"buzz\",+i)\r\n",
        "     if i%3 == 0:\r\n",
        "       print(\"fizzbuzz\",+i)\r\n",
        "\r\n",
        "    "
      ],
      "execution_count": 82,
      "outputs": [
        {
          "output_type": "stream",
          "text": [
            "fizz 3\n",
            "buzz 5\n",
            "fizz 6\n",
            "fizz 9\n",
            "buzz 10\n",
            "fizz 12\n",
            "fizz 15\n",
            "buzz 15\n",
            "fizzbuzz 15\n",
            "fizz 18\n",
            "buzz 20\n",
            "fizz 21\n",
            "fizz 24\n",
            "buzz 25\n",
            "fizz 27\n",
            "fizz 30\n",
            "buzz 30\n",
            "fizzbuzz 30\n",
            "fizz 33\n",
            "buzz 35\n",
            "fizz 36\n",
            "fizz 39\n",
            "buzz 40\n",
            "fizz 42\n",
            "fizz 45\n",
            "buzz 45\n",
            "fizzbuzz 45\n",
            "fizz 48\n",
            "buzz 50\n",
            "fizz 51\n",
            "fizz 54\n",
            "buzz 55\n",
            "fizz 57\n",
            "fizz 60\n",
            "buzz 60\n",
            "fizzbuzz 60\n",
            "fizz 63\n",
            "buzz 65\n",
            "fizz 66\n",
            "fizz 69\n",
            "buzz 70\n",
            "fizz 72\n",
            "fizz 75\n",
            "buzz 75\n",
            "fizzbuzz 75\n",
            "fizz 78\n",
            "buzz 80\n",
            "fizz 81\n",
            "fizz 84\n",
            "buzz 85\n",
            "fizz 87\n",
            "fizz 90\n",
            "buzz 90\n",
            "fizzbuzz 90\n",
            "fizz 93\n",
            "buzz 95\n",
            "fizz 96\n",
            "fizz 99\n"
          ],
          "name": "stdout"
        }
      ]
    },
    {
      "cell_type": "code",
      "metadata": {
        "id": "CGZnyOWCMRMr"
      },
      "source": [
        "import random"
      ],
      "execution_count": 83,
      "outputs": []
    },
    {
      "cell_type": "code",
      "metadata": {
        "id": "QhhS_YkCkrga"
      },
      "source": [
        "#blackjack game\r\n",
        "total_money = 50\r\n",
        "maxx = 21\r\n",
        "king =10\r\n",
        "jack = 10\r\n",
        "queen =10\r\n",
        "ACE = \"ACE\""
      ],
      "execution_count": 84,
      "outputs": []
    },
    {
      "cell_type": "code",
      "metadata": {
        "id": "d6o55hMYlGL9"
      },
      "source": [
        "class blackjack:\r\n",
        "  def __init__(self, player):#----------initializing variables\r\n",
        "    self.input = input\r\n",
        "    self.player = player\r\n",
        "    self.players_input = 0\r\n",
        "    self.current_player_card = []\r\n",
        "    self.total_player_list = []\r\n",
        "    self.updated_each_player_list = []\r\n",
        "    self.diamond = [king, jack , queen,ACE]\r\n",
        "    self.total_money = 50\r\n",
        "    self.heart = [king, jack , queen,ACE]\r\n",
        "    self.club = [king, jack, queen,ACE]\r\n",
        "    self.spade = [king, jack, queen,ACE]\r\n",
        "    self.total_cards = []\r\n",
        "  def cards(self):#------------------making deck of cards\r\n",
        "    for i in range(1,11):\r\n",
        "      self.diamond.append(i)\r\n",
        "      self.heart.append(i)\r\n",
        "      self.club.append(i)\r\n",
        "      self.spade.append(i)\r\n",
        "    #print(self.diamond)\r\n",
        "\r\n",
        "    self.total_cards = self.diamond + self.heart + self.club + self.spade\r\n",
        "    random.shuffle(self.total_cards)\r\n",
        "    #print(self.total_cards)\r\n",
        "    return(self.total_cards)\r\n",
        "\r\n",
        "\r\n",
        "\r\n",
        "  def player_money(self):#-----------distribute money to each player\r\n",
        "    for i in range(self.player):\r\n",
        "      self.total_player_list.append(i)\r\n",
        "      self.total_player_list[i]=self.total_money\r\n",
        "\r\n",
        "\r\n",
        "  def each_player_deck(self):\r\n",
        "    \r\n",
        "    for i in range(self.player):\r\n",
        "      self.current_player_card.append(i)\r\n",
        "      self.current_player_card[i] = 0\r\n",
        "\r\n",
        "  def handle_ACE(self, ACE):\r\n",
        "    for i in range(self.player):\r\n",
        "      if each_player_deck[i] + 11 <= 21:\r\n",
        "        ACE = 11\r\n",
        "      if each_player_deck[i] + 1 <= 21:\r\n",
        "        ACE = 1\r\n",
        "    return ACE\r\n",
        "\r\n",
        "\r\n",
        "\r\n",
        "  def hit_or_pass(self,players_input):\r\n",
        "    if players_input == \"hit\":\r\n",
        "      \r\n",
        "      self.total_player_list[0] -= 1\r\n",
        "      \r\n",
        "    \r\n",
        "    elif players_input == \"pass\":\r\n",
        "      self.total_player_list[0] = self.total_player_list[0]\r\n",
        "\r\n",
        "    else:\r\n",
        "      print(\"Wrong input\")\r\n",
        "\r\n",
        "  def opponet_money_deduct(self,opponet):\r\n",
        "    self.total_player_list[opponet] -= 1\r\n",
        "\r\n",
        "\r\n",
        "\r\n",
        "  def Start_game(self):\r\n",
        "    self.total_player_list.clear()\r\n",
        "    self.cards()#---------------initialize cards\r\n",
        "    self.player_money()#------------initizalize money\r\n",
        "    self.each_player_deck()#--------initializing each player deck, initially to be zero\r\n",
        "    self.temp = 0\r\n",
        "    #self.updated_each_player_list = [0,0,0,0]\r\n",
        "    \r\n",
        "    self.updated_each_player_list_Copy = [0,0,0,0]\r\n",
        "\r\n",
        "\r\n",
        "    # print(\"before popping\")\r\n",
        "    # print(self.total_cards)\r\n",
        "\r\n",
        "\r\n",
        "    for l in range(4):#-------------------------number of total rounds\r\n",
        "      self.updated_each_player_list.clear()\r\n",
        "    \r\n",
        "\r\n",
        "\r\n",
        "      for i in range(self.player):#----------------for loop for asigiming cards to player\r\n",
        "        if i!=0:\r\n",
        "          self.opponet_money_deduct(i)\r\n",
        "        \r\n",
        "        \r\n",
        "        if i == 0:\r\n",
        "          k = input(\"would you like to hit or pass?\")\r\n",
        "          self.hit_or_pass(k)\r\n",
        "          if(k == \"pass\"):\r\n",
        "            self.updated_each_player_list.append(0)\r\n",
        "            continue\r\n",
        "\r\n",
        "        self.temp = self.total_cards[0] \r\n",
        "        self.updated_each_player_list.append(self.temp)\r\n",
        "        self.total_cards.pop(0)\r\n",
        "\r\n",
        "\r\n",
        "\r\n",
        "      for h in range (self.player):\r\n",
        "        if self.updated_each_player_list[h] == \"ACE\":\r\n",
        "          if self.updated_each_player_list_Copy[h] + 11 <= 21:\r\n",
        "            self.updated_each_player_list[h] = int(11)\r\n",
        "\r\n",
        "          elif self.updated_each_player_list_Copy[h] + 1 <= 21:\r\n",
        "            self.updated_each_player_list[h] = int(11)\r\n",
        "\r\n",
        "\r\n",
        "\r\n",
        "\r\n",
        "\r\n",
        "      self.updated_each_player_list_Copy = [x+y for x,y in zip(self.updated_each_player_list_Copy, self.updated_each_player_list)]#-------this list is sum of total cards each player have\r\n",
        "      #self.updated_each_player_list_Copy += self.updated_each_player_list\r\n",
        "\r\n",
        "\r\n",
        "\r\n",
        "\r\n",
        "      # print(\"After popping\")\r\n",
        "      # print(self.total_cards)\r\n",
        "      print(self.updated_each_player_list_Copy)\r\n",
        "      for k in range(self.player):\r\n",
        "        if self.updated_each_player_list_Copy[k] > 21:\r\n",
        "          self.updated_each_player_list_Copy[k] = -100\r\n",
        "          print(\"player\", k+1, \"lost\")\r\n",
        "\r\n",
        "\r\n",
        "        if self.updated_each_player_list_Copy[k] == 21:\r\n",
        "          print(\"player\", k+1, \"WON\")\r\n",
        "      \r\n",
        "\r\n",
        "\r\n",
        "    print(\"SEE BELOW TO CHECK YOUR BALANNCE (OUT OF 50)\")\r\n",
        "    print(self.total_player_list)\r\n",
        "\r\n"
      ],
      "execution_count": 85,
      "outputs": []
    },
    {
      "cell_type": "code",
      "metadata": {
        "colab": {
          "base_uri": "https://localhost:8080/"
        },
        "id": "SlXjer9_HFat",
        "outputId": "0605d16e-eedd-40dd-8ae9-69f699b7e39d"
      },
      "source": [
        "p = int(input(\"Enter number of player\",))#################--------------------tested with 4\r\n",
        "a = blackjack(p)\r\n",
        "print(\"PLAYER1| PLAYER2 | PLAYER3 | PLAYER4\")\r\n",
        "print(\"YOure player 1\")\r\n",
        "\r\n",
        "\r\n"
      ],
      "execution_count": 88,
      "outputs": [
        {
          "output_type": "stream",
          "text": [
            "Enter number of player4\n",
            "PLAYER1| PLAYER2 | PLAYER3 | PLAYER4\n",
            "YOure player 1\n"
          ],
          "name": "stdout"
        }
      ]
    },
    {
      "cell_type": "code",
      "metadata": {
        "colab": {
          "base_uri": "https://localhost:8080/"
        },
        "id": "_xQHTcD3HyXC",
        "outputId": "d1e57755-eb71-4335-c0ab-4cf3c51680de"
      },
      "source": [
        "a.Start_game()"
      ],
      "execution_count": null,
      "outputs": [
        {
          "output_type": "stream",
          "text": [
            "would you like to hit or pass?hit\n",
            "[10, 10, 11, 3]\n",
            "would you like to hit or pass?hit\n",
            "[18, 20, 20, 13]\n",
            "would you like to hit or pass?hit\n",
            "[24, 30, 24, 14]\n",
            "player 1 lost\n",
            "player 2 lost\n",
            "player 3 lost\n"
          ],
          "name": "stdout"
        }
      ]
    },
    {
      "cell_type": "code",
      "metadata": {
        "id": "uD_GIoq7R2ge"
      },
      "source": [
        ""
      ],
      "execution_count": 44,
      "outputs": []
    },
    {
      "cell_type": "code",
      "metadata": {
        "id": "lq6mW_fgdj3S"
      },
      "source": [
        ""
      ],
      "execution_count": 351,
      "outputs": []
    },
    {
      "cell_type": "code",
      "metadata": {
        "id": "ozpsFQNsjC27"
      },
      "source": [
        ""
      ],
      "execution_count": 449,
      "outputs": []
    },
    {
      "cell_type": "code",
      "metadata": {
        "id": "ZQ2qHj34jaNN"
      },
      "source": [
        ""
      ],
      "execution_count": null,
      "outputs": []
    }
  ]
}